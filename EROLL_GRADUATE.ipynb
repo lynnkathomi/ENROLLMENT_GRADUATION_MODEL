{
  "nbformat": 4,
  "nbformat_minor": 0,
  "metadata": {
    "colab": {
      "provenance": [],
      "authorship_tag": "ABX9TyOJkkamfW8hfJLXyMkeXHEC",
      "include_colab_link": true
    },
    "kernelspec": {
      "name": "python3",
      "display_name": "Python 3"
    },
    "language_info": {
      "name": "python"
    }
  },
  "cells": [
    {
      "cell_type": "markdown",
      "metadata": {
        "id": "view-in-github",
        "colab_type": "text"
      },
      "source": [
        "<a href=\"https://colab.research.google.com/github/lynnkathomi/ENROLLMENT_GRADUATION_MODEL/blob/main/EROLL_GRADUATE.ipynb\" target=\"_parent\"><img src=\"https://colab.research.google.com/assets/colab-badge.svg\" alt=\"Open In Colab\"/></a>"
      ]
    },
    {
      "cell_type": "code",
      "execution_count": null,
      "metadata": {
        "id": "oY4FbjlRi98w"
      },
      "outputs": [],
      "source": [
        "import numpy as np\n",
        "import pandas as pd\n",
        "from sklearn.model_selection import train_test_split\n",
        "from sklearn.ensemble import RandomForestClassifier\n",
        "from sklearn.metrics import accuracy_score, classification_report\n"
      ]
    },
    {
      "cell_type": "code",
      "source": [
        "# Define number of samples\n",
        "num_samples = 1000\n",
        "\n",
        "# Create a synthetic dataset\n",
        "np.random.seed(42)\n",
        "data = {\n",
        "    'academic_score': np.random.normal(75, 10, num_samples),\n",
        "    'extracurricular_participation': np.random.randint(0, 2, num_samples),\n",
        "    'socioeconomic_status': np.random.randint(0, 3, num_samples),\n",
        "    'age': np.random.randint(18, 30, num_samples),\n",
        "    'gender': np.random.randint(0, 2, num_samples),\n",
        "    'program_interest': np.random.randint(0, 3, num_samples),\n",
        "    'enrollment_status': np.random.randint(0, 2, num_samples),\n",
        "    'graduation_status': np.random.randint(0, 2, num_samples)\n",
        "}\n",
        "\n",
        "df = pd.DataFrame(data)\n"
      ],
      "metadata": {
        "id": "RRgsGXegjB8p"
      },
      "execution_count": null,
      "outputs": []
    },
    {
      "cell_type": "code",
      "source": [
        "# Features for enrollment prediction\n",
        "X_enroll = df[['academic_score', 'extracurricular_participation', 'socioeconomic_status', 'age', 'gender', 'program_interest']]\n",
        "y_enroll = df['enrollment_status']\n"
      ],
      "metadata": {
        "id": "EaIfPAnfjQf3"
      },
      "execution_count": null,
      "outputs": []
    },
    {
      "cell_type": "code",
      "source": [
        "# Split data for training and testing\n",
        "X_enroll_train, X_enroll_test, y_enroll_train, y_enroll_test = train_test_split(X_enroll, y_enroll, test_size=0.3, random_state=42)\n",
        "\n",
        "# Train a Random Forest model\n",
        "enroll_model = RandomForestClassifier(random_state=42)\n",
        "enroll_model.fit(X_enroll_train, y_enroll_train)\n",
        "\n",
        "# Evaluate model\n",
        "y_enroll_pred = enroll_model.predict(X_enroll_test)\n",
        "print(\"Enrollment Prediction Accuracy:\", accuracy_score(y_enroll_test, y_enroll_pred))\n",
        "print(\"Enrollment Prediction Report:\\n\", classification_report(y_enroll_test, y_enroll_pred))\n"
      ],
      "metadata": {
        "colab": {
          "base_uri": "https://localhost:8080/"
        },
        "id": "6rCYsuEhjcNc",
        "outputId": "586497a6-05b9-481b-f08d-7f9d7263237d"
      },
      "execution_count": null,
      "outputs": [
        {
          "output_type": "stream",
          "name": "stdout",
          "text": [
            "Enrollment Prediction Accuracy: 0.47333333333333333\n",
            "Enrollment Prediction Report:\n",
            "               precision    recall  f1-score   support\n",
            "\n",
            "           0       0.48      0.50      0.49       151\n",
            "           1       0.47      0.44      0.46       149\n",
            "\n",
            "    accuracy                           0.47       300\n",
            "   macro avg       0.47      0.47      0.47       300\n",
            "weighted avg       0.47      0.47      0.47       300\n",
            "\n"
          ]
        }
      ]
    },
    {
      "cell_type": "code",
      "source": [
        "# Filter enrolled students\n",
        "df_graduation = df[df['enrollment_status'] == 1]\n",
        "X_grad = df_graduation[['academic_score', 'extracurricular_participation', 'socioeconomic_status', 'age', 'gender']]\n",
        "y_grad = df_graduation['graduation_status']\n"
      ],
      "metadata": {
        "id": "nDnWbBrnjfe0"
      },
      "execution_count": null,
      "outputs": []
    },
    {
      "cell_type": "code",
      "source": [
        "# Split data for training and testing\n",
        "X_grad_train, X_grad_test, y_grad_train, y_grad_test = train_test_split(X_grad, y_grad, test_size=0.3, random_state=42)\n",
        "\n",
        "# Train a Random Forest model for graduation prediction\n",
        "grad_model = RandomForestClassifier(random_state=42)\n",
        "grad_model.fit(X_grad_train, y_grad_train)\n",
        "\n",
        "# Evaluate model\n",
        "y_grad_pred = grad_model.predict(X_grad_test)\n",
        "print(\"Graduation Prediction Accuracy:\", accuracy_score(y_grad_test, y_grad_pred))\n",
        "print(\"Graduation Prediction Report:\\n\", classification_report(y_grad_test, y_grad_pred))\n"
      ],
      "metadata": {
        "colab": {
          "base_uri": "https://localhost:8080/"
        },
        "id": "M1_Ra0RcjnFZ",
        "outputId": "43e79810-9ffb-4ffb-d062-038c090bc4d6"
      },
      "execution_count": null,
      "outputs": [
        {
          "output_type": "stream",
          "name": "stdout",
          "text": [
            "Graduation Prediction Accuracy: 0.4863013698630137\n",
            "Graduation Prediction Report:\n",
            "               precision    recall  f1-score   support\n",
            "\n",
            "           0       0.45      0.46      0.45        68\n",
            "           1       0.52      0.51      0.52        78\n",
            "\n",
            "    accuracy                           0.49       146\n",
            "   macro avg       0.48      0.48      0.48       146\n",
            "weighted avg       0.49      0.49      0.49       146\n",
            "\n"
          ]
        }
      ]
    },
    {
      "cell_type": "code",
      "source": [
        "# New student data for enrollment prediction\n",
        "new_student = pd.DataFrame({\n",
        "    'academic_score': [85],\n",
        "    'extracurricular_participation': [3],\n",
        "    'socioeconomic_status': [2],\n",
        "    'age': [20],\n",
        "    'gender': [1],\n",
        "    'program_interest': [3]\n",
        "})\n",
        "\n",
        "# Enrollment prediction\n",
        "enrollment_prediction = enroll_model.predict(new_student)\n",
        "if enrollment_prediction[0] == 1:\n",
        "    print(\"Prediction: Likely to Enroll\")\n",
        "\n",
        "    # Graduation prediction only if enrolled\n",
        "    grad_prediction = grad_model.predict(new_student[['academic_score', 'extracurricular_participation', 'socioeconomic_status', 'age', 'gender']])\n",
        "    print(\"Prediction:\", \"Likely to Graduate\" if grad_prediction[0] == 1 else \"May Need Support\")\n",
        "else:\n",
        "    print(\"Prediction: Unlikely to Enroll\")\n"
      ],
      "metadata": {
        "colab": {
          "base_uri": "https://localhost:8080/"
        },
        "id": "nv2G8B95jsIx",
        "outputId": "77e7967c-8759-48fe-b0e9-c29b9afb864d"
      },
      "execution_count": null,
      "outputs": [
        {
          "output_type": "stream",
          "name": "stdout",
          "text": [
            "Prediction: Likely to Enroll\n",
            "Prediction: Likely to Graduate\n"
          ]
        }
      ]
    },
    {
      "cell_type": "code",
      "source": [
        "# New student data for enrollment prediction\n",
        "new_student = pd.DataFrame({\n",
        "    'academic_score': [85],\n",
        "    'extracurricular_participation': [1],\n",
        "    'socioeconomic_status': [1],\n",
        "    'age': [20],\n",
        "    'gender': [1],\n",
        "    'program_interest': [1]\n",
        "})\n",
        "\n",
        "# Enrollment prediction\n",
        "enrollment_prediction = enroll_model.predict(new_student)\n",
        "if enrollment_prediction[0] == 1:\n",
        "    print(\"Prediction: Likely to Enroll\")\n",
        "\n",
        "    # Graduation prediction only if enrolled\n",
        "    grad_prediction = grad_model.predict(new_student[['academic_score', 'extracurricular_participation', 'socioeconomic_status', 'age', 'gender']])\n",
        "    print(\"Prediction:\", \"Likely to Graduate\" if grad_prediction[0] == 1 else \"May Need Support\")\n",
        "else:\n",
        "    print(\"Prediction: Unlikely to Enroll\")\n"
      ],
      "metadata": {
        "colab": {
          "base_uri": "https://localhost:8080/"
        },
        "id": "WvCtJk4jkRqr",
        "outputId": "57c55d7f-5aa3-466c-916a-17aa841da1c5"
      },
      "execution_count": null,
      "outputs": [
        {
          "output_type": "stream",
          "name": "stdout",
          "text": [
            "Prediction: Unlikely to Enroll\n"
          ]
        }
      ]
    }
  ]
}